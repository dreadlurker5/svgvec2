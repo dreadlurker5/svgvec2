{
 "cells": [
  {
   "cell_type": "code",
   "execution_count": null,
   "metadata": {},
   "outputs": [],
   "source": [
    "from svgvec import image_to_svg\n",
    "\n",
    "image_url = input(\"Enter image URL: \")\n",
    "\n",
    "try:\n",
    "    svg_output = image_to_svg(image_url)\n",
    "    print(\"SVG output:\\n\")\n",
    "    print(svg_output)\n",
    "except Exception as e:\n",
    "    print(\"Error: {}\".format(e))"
   ]
  }
 ],
 "metadata": {
  "kernelspec": {
   "display_name": "Python 3",
   "language": "python",
   "name": "python3"
  },
  "language_info": {
   "codemirror_mode": {
    "name": "ipython",
    "version": 3
   },
   "file_extension": ".py",
   "mimetype": "text/x-python",
   "name": "python",
   "nbconvert_exporter": "python",
   "pygments_lexer": "ipython3",
   "version": "3.8.5"
  }
 },
 "nbformat": 4,
 "nbformat_minor": 4
}
