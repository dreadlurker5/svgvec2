# svgvec.ipynb

from svgvec import image_to_svg

image_url = input("Enter image URL: ")

try:
    svg_output = image_to_svg(image_url)
    print("SVG output:\n")
    print(svg_output)
except Exception as e:
    print("Error: {}".format(e))
